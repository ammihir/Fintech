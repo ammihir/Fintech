{
 "cells": [
  {
   "cell_type": "markdown",
   "metadata": {},
   "source": [
    "# Retirement Planner\n",
    "\n",
    "---\n",
    "\n",
    "## Environment Setup"
   ]
  },
  {
   "cell_type": "code",
   "execution_count": 1,
   "metadata": {},
   "outputs": [],
   "source": [
    "# Import libraries and dependencies\n",
    "import numpy as np\n",
    "import pandas as pd\n",
    "import os\n",
    "from datetime import datetime, timedelta\n",
    "import matplotlib.pyplot as plt\n",
    "import alpaca_trade_api as tradeapi\n",
    "%matplotlib inline"
   ]
  },
  {
   "cell_type": "code",
   "execution_count": 2,
   "metadata": {},
   "outputs": [],
   "source": [
    "# Set the random seed for resutls reproducibility (for testing purposes only)\n",
    "np.random.seed(42)"
   ]
  },
  {
   "cell_type": "markdown",
   "metadata": {},
   "source": [
    "---\n",
    "\n",
    "## Portfolio Planner\n",
    "\n",
    "In this activity, you will use the Alpaca API to grab historical data for a `60/40` portfolio using `SPY` to represent the stock portion and `AGG` to represent the bonds."
   ]
  },
  {
   "cell_type": "code",
   "execution_count": 4,
   "metadata": {},
   "outputs": [],
   "source": [
    "# Load .env enviroment variables\n",
    "from dotenv import load_dotenv\n",
    "load_dotenv('example.env')\n",
    "\n",
    "# Set Alpaca API key and secret\n",
    "apca_api_key = os.getenv(\"ALPACA_API_KEY\")\n",
    "apca_secret_key = os.getenv(\"ALPACA_SECRET_KEY\")\n",
    "\n",
    "# Create the Alpaca API object\n",
    "api = tradeapi.REST(\n",
    "    apca_api_key,\n",
    "    apca_secret_key,\n",
    "    api_version = \"v2\")"
   ]
  },
  {
   "cell_type": "markdown",
   "metadata": {},
   "source": [
    "# Data Collection\n",
    "\n",
    "In this step, you will need to use the Alpaca api to fetch closing prices for the `SPY` and `AGG` tickers. Save the results as a pandas DataFrame"
   ]
  },
  {
   "cell_type": "code",
   "execution_count": 5,
   "metadata": {},
   "outputs": [],
   "source": [
    "# Subset your tickers, then pull returns data:\n",
    "# Set the ticker\n",
    "ticker = [\"SPY\", \"AGG\"]\n",
    "\n",
    "# Set timeframe to '1D'\n",
    "timeframe = \"1D\"\n",
    "\n",
    "# Set start and end datetimes of 1 year, between now and 365 days ago.\n",
    "start_date = pd.Timestamp('2019-01-01', tz='America/New_York').isoformat()\n",
    "end_date = pd.Timestamp('2019-12-31', tz='America/New_York').isoformat()\n",
    "\n",
    "# Get 1 year's worth of historical data for SPY and AGG\n",
    "ticker_df = api.get_barset(\n",
    "    ticker,\n",
    "    timeframe,\n",
    "    limit=None,\n",
    "    start=start_date,\n",
    "    end=end_date,\n",
    "    after=None,\n",
    "    until=None,\n",
    ").df\n",
    "\n",
    "# Drop unnecessary columns\n",
    "ticker_df = ticker_df.drop(columns=['open', 'high', 'low', 'volume'], level=1)"
   ]
  },
  {
   "cell_type": "code",
   "execution_count": 6,
   "metadata": {},
   "outputs": [
    {
     "data": {
      "text/html": [
       "<div>\n",
       "<style scoped>\n",
       "    .dataframe tbody tr th:only-of-type {\n",
       "        vertical-align: middle;\n",
       "    }\n",
       "\n",
       "    .dataframe tbody tr th {\n",
       "        vertical-align: top;\n",
       "    }\n",
       "\n",
       "    .dataframe thead tr th {\n",
       "        text-align: left;\n",
       "    }\n",
       "\n",
       "    .dataframe thead tr:last-of-type th {\n",
       "        text-align: right;\n",
       "    }\n",
       "</style>\n",
       "<table border=\"1\" class=\"dataframe\">\n",
       "  <thead>\n",
       "    <tr>\n",
       "      <th></th>\n",
       "      <th>AGG</th>\n",
       "      <th>SPY</th>\n",
       "    </tr>\n",
       "    <tr>\n",
       "      <th></th>\n",
       "      <th>close</th>\n",
       "      <th>close</th>\n",
       "    </tr>\n",
       "    <tr>\n",
       "      <th>time</th>\n",
       "      <th></th>\n",
       "      <th></th>\n",
       "    </tr>\n",
       "  </thead>\n",
       "  <tbody>\n",
       "    <tr>\n",
       "      <th>2019-01-02 00:00:00-05:00</th>\n",
       "      <td>106.585</td>\n",
       "      <td>249.89</td>\n",
       "    </tr>\n",
       "    <tr>\n",
       "      <th>2019-01-03 00:00:00-05:00</th>\n",
       "      <td>107.020</td>\n",
       "      <td>244.46</td>\n",
       "    </tr>\n",
       "    <tr>\n",
       "      <th>2019-01-04 00:00:00-05:00</th>\n",
       "      <td>106.695</td>\n",
       "      <td>252.41</td>\n",
       "    </tr>\n",
       "    <tr>\n",
       "      <th>2019-01-07 00:00:00-05:00</th>\n",
       "      <td>106.470</td>\n",
       "      <td>254.40</td>\n",
       "    </tr>\n",
       "    <tr>\n",
       "      <th>2019-01-08 00:00:00-05:00</th>\n",
       "      <td>106.420</td>\n",
       "      <td>256.65</td>\n",
       "    </tr>\n",
       "  </tbody>\n",
       "</table>\n",
       "</div>"
      ],
      "text/plain": [
       "                               AGG     SPY\n",
       "                             close   close\n",
       "time                                      \n",
       "2019-01-02 00:00:00-05:00  106.585  249.89\n",
       "2019-01-03 00:00:00-05:00  107.020  244.46\n",
       "2019-01-04 00:00:00-05:00  106.695  252.41\n",
       "2019-01-07 00:00:00-05:00  106.470  254.40\n",
       "2019-01-08 00:00:00-05:00  106.420  256.65"
      ]
     },
     "execution_count": 6,
     "metadata": {},
     "output_type": "execute_result"
    }
   ],
   "source": [
    "# Display sample data\n",
    "ticker_df.head()"
   ]
  },
  {
   "cell_type": "markdown",
   "metadata": {},
   "source": [
    "---\n",
    "\n",
    "## Monte Carlo Simulation\n",
    "\n",
    "In this step, you will run Monte Carlo Simulations for your portfolio to model portfolio performance at different retirement ages. \n",
    "\n",
    "Complete the following steps:\n",
    "\n",
    "1. Calculate the daily returns for the SPY and AGG closing prices.\n",
    "\n",
    "2. Calculate volatility for both the SPY and AGG closing prices.\n",
    "\n",
    "3. Find the last day's closing price for both stocks and save those as variables\n",
    "\n",
    "4. Run a Monte Carlo Simulation of at least `100` iterations and generate at least `30` years of closing prices\n",
    "\n",
    "**Hint:** There are `252` trading days per year, so the number of records to generate for each Monte Carlo run will be `252 days * 30 years`."
   ]
  },
  {
   "cell_type": "code",
   "execution_count": 7,
   "metadata": {},
   "outputs": [
    {
     "data": {
      "text/plain": [
       "0.00021277231473764173"
      ]
     },
     "execution_count": 7,
     "metadata": {},
     "output_type": "execute_result"
    }
   ],
   "source": [
    "# Calculate the daily roi for the stocks\n",
    "daily_returns = ticker_df.pct_change()\n",
    "\n",
    "\n",
    "avg_daily_return_agg = daily_returns.mean()[\"AGG\"][\"close\"]\n",
    "avg_daily_return_spy = daily_returns.mean()[\"SPY\"][\"close\"]\n",
    "\n",
    "#Display sample data\n",
    "\n",
    "avg_daily_return_agg"
   ]
  },
  {
   "cell_type": "code",
   "execution_count": 12,
   "metadata": {},
   "outputs": [
    {
     "name": "stdout",
     "output_type": "stream",
     "text": [
      "0.0020886019741764646\n",
      "0.007820053413439366\n"
     ]
    }
   ],
   "source": [
    "# Compute daily volatility\n",
    "std_dev_daily_return_agg = daily_returns.std()[\"AGG\"][\"close\"]\n",
    "std_dev_daily_return_spy = daily_returns.std()[\"SPY\"][\"close\"]\n",
    "\n",
    "print(std_dev_daily_return_agg)\n",
    "print(std_dev_daily_return_spy)"
   ]
  },
  {
   "cell_type": "code",
   "execution_count": 13,
   "metadata": {},
   "outputs": [],
   "source": [
    "# Save the last day's closing price\n",
    "\n",
    "last_day_close_spy = ticker_df['SPY']['close'][-1]\n",
    "last_day_close_agg = ticker_df['AGG']['close'][-1]"
   ]
  },
  {
   "cell_type": "code",
   "execution_count": 14,
   "metadata": {},
   "outputs": [],
   "source": [
    "# Setup the Monte Carlo Parameters\n",
    "num_simulations = 500\n",
    "num_records = 252 * 30\n",
    "monte_carlo = pd.DataFrame()\n",
    "\n",
    "simulated_price_df = pd.DataFrame()\n",
    "portfolio_cumulative_returns = pd.DataFrame()"
   ]
  },
  {
   "cell_type": "code",
   "execution_count": 15,
   "metadata": {},
   "outputs": [],
   "source": [
    "# Run the Monte Carlo Simulation\n",
    "for n in range(num_simulations):\n",
    "    simulated_prices_agg = [last_day_close_agg]\n",
    "    simulated_prices_spy = [last_day_close_spy]\n",
    "    \n",
    "    for i in range(num_records):\n",
    "        simulated_price_agg = simulated_prices_agg[-1] * (1 + np.random.normal(avg_daily_return_agg, std_dev_daily_return_agg))\n",
    "        simulated_price_spy = simulated_prices_spy[-1] * (1 + np.random.normal(avg_daily_return_spy, std_dev_daily_return_spy))\n",
    "        \n",
    "        simulated_prices_agg.append(simulated_price_agg)\n",
    "        simulated_prices_spy.append(simulated_price_spy)\n",
    "\n",
    "    simulated_price_df[\"AGG prices\"] = pd.Series(simulated_prices_agg)\n",
    "    simulated_price_df[\"SPY prices\"] = pd.Series(simulated_prices_spy)\n",
    "    \n",
    "    simulated_daily_returns = simulated_price_df.pct_change()\n",
    "    \n",
    "    weights = [0.60, 0.40]\n",
    "    \n",
    "    portfolio_daily_returns = simulated_daily_returns.dot(weights)\n",
    "    \n",
    "    portfolio_cumulative_returns[n] = (1 + portfolio_daily_returns.fillna(0)).cumprod()\n",
    "    "
   ]
  },
  {
   "cell_type": "code",
   "execution_count": 16,
   "metadata": {},
   "outputs": [
    {
     "data": {
      "text/html": [
       "<div>\n",
       "<style scoped>\n",
       "    .dataframe tbody tr th:only-of-type {\n",
       "        vertical-align: middle;\n",
       "    }\n",
       "\n",
       "    .dataframe tbody tr th {\n",
       "        vertical-align: top;\n",
       "    }\n",
       "\n",
       "    .dataframe thead th {\n",
       "        text-align: right;\n",
       "    }\n",
       "</style>\n",
       "<table border=\"1\" class=\"dataframe\">\n",
       "  <thead>\n",
       "    <tr style=\"text-align: right;\">\n",
       "      <th></th>\n",
       "      <th>0</th>\n",
       "      <th>1</th>\n",
       "      <th>2</th>\n",
       "      <th>3</th>\n",
       "      <th>4</th>\n",
       "      <th>5</th>\n",
       "      <th>6</th>\n",
       "      <th>7</th>\n",
       "      <th>8</th>\n",
       "      <th>9</th>\n",
       "      <th>...</th>\n",
       "      <th>490</th>\n",
       "      <th>491</th>\n",
       "      <th>492</th>\n",
       "      <th>493</th>\n",
       "      <th>494</th>\n",
       "      <th>495</th>\n",
       "      <th>496</th>\n",
       "      <th>497</th>\n",
       "      <th>498</th>\n",
       "      <th>499</th>\n",
       "    </tr>\n",
       "  </thead>\n",
       "  <tbody>\n",
       "    <tr>\n",
       "      <th>0</th>\n",
       "      <td>1.000000</td>\n",
       "      <td>1.000000</td>\n",
       "      <td>1.000000</td>\n",
       "      <td>1.000000</td>\n",
       "      <td>1.000000</td>\n",
       "      <td>1.000000</td>\n",
       "      <td>1.000000</td>\n",
       "      <td>1.000000</td>\n",
       "      <td>1.000000</td>\n",
       "      <td>1.000000</td>\n",
       "      <td>...</td>\n",
       "      <td>1.000000</td>\n",
       "      <td>1.000000</td>\n",
       "      <td>1.000000</td>\n",
       "      <td>1.000000</td>\n",
       "      <td>1.000000</td>\n",
       "      <td>1.000000</td>\n",
       "      <td>1.000000</td>\n",
       "      <td>1.000000</td>\n",
       "      <td>1.000000</td>\n",
       "      <td>1.000000</td>\n",
       "    </tr>\n",
       "    <tr>\n",
       "      <th>1</th>\n",
       "      <td>1.000734</td>\n",
       "      <td>0.999712</td>\n",
       "      <td>0.998237</td>\n",
       "      <td>1.003406</td>\n",
       "      <td>1.008393</td>\n",
       "      <td>0.997498</td>\n",
       "      <td>0.999664</td>\n",
       "      <td>1.007943</td>\n",
       "      <td>1.000837</td>\n",
       "      <td>0.996925</td>\n",
       "      <td>...</td>\n",
       "      <td>1.001650</td>\n",
       "      <td>0.994703</td>\n",
       "      <td>1.002252</td>\n",
       "      <td>1.001714</td>\n",
       "      <td>0.997404</td>\n",
       "      <td>1.002493</td>\n",
       "      <td>1.000484</td>\n",
       "      <td>1.003432</td>\n",
       "      <td>0.999305</td>\n",
       "      <td>0.996260</td>\n",
       "    </tr>\n",
       "    <tr>\n",
       "      <th>2</th>\n",
       "      <td>1.006858</td>\n",
       "      <td>1.002968</td>\n",
       "      <td>1.001195</td>\n",
       "      <td>0.997723</td>\n",
       "      <td>1.007478</td>\n",
       "      <td>0.996020</td>\n",
       "      <td>0.996898</td>\n",
       "      <td>1.002470</td>\n",
       "      <td>1.000314</td>\n",
       "      <td>0.996704</td>\n",
       "      <td>...</td>\n",
       "      <td>1.004336</td>\n",
       "      <td>0.996975</td>\n",
       "      <td>1.003698</td>\n",
       "      <td>1.004215</td>\n",
       "      <td>0.998267</td>\n",
       "      <td>0.994751</td>\n",
       "      <td>1.001138</td>\n",
       "      <td>1.002625</td>\n",
       "      <td>0.997999</td>\n",
       "      <td>0.999466</td>\n",
       "    </tr>\n",
       "    <tr>\n",
       "      <th>3</th>\n",
       "      <td>1.006372</td>\n",
       "      <td>1.002684</td>\n",
       "      <td>1.001856</td>\n",
       "      <td>0.997835</td>\n",
       "      <td>1.006229</td>\n",
       "      <td>0.992280</td>\n",
       "      <td>1.000064</td>\n",
       "      <td>0.997846</td>\n",
       "      <td>1.000294</td>\n",
       "      <td>1.003229</td>\n",
       "      <td>...</td>\n",
       "      <td>1.004999</td>\n",
       "      <td>0.993501</td>\n",
       "      <td>1.004921</td>\n",
       "      <td>1.007249</td>\n",
       "      <td>0.994611</td>\n",
       "      <td>0.996294</td>\n",
       "      <td>1.005230</td>\n",
       "      <td>0.999495</td>\n",
       "      <td>1.000130</td>\n",
       "      <td>1.002152</td>\n",
       "    </tr>\n",
       "    <tr>\n",
       "      <th>4</th>\n",
       "      <td>1.011327</td>\n",
       "      <td>1.004633</td>\n",
       "      <td>1.004339</td>\n",
       "      <td>1.001542</td>\n",
       "      <td>1.010242</td>\n",
       "      <td>0.993665</td>\n",
       "      <td>1.003102</td>\n",
       "      <td>0.993692</td>\n",
       "      <td>1.002659</td>\n",
       "      <td>1.004777</td>\n",
       "      <td>...</td>\n",
       "      <td>1.003652</td>\n",
       "      <td>0.995610</td>\n",
       "      <td>1.005107</td>\n",
       "      <td>1.004128</td>\n",
       "      <td>0.996547</td>\n",
       "      <td>0.995422</td>\n",
       "      <td>1.002762</td>\n",
       "      <td>1.001599</td>\n",
       "      <td>0.999740</td>\n",
       "      <td>1.003183</td>\n",
       "    </tr>\n",
       "  </tbody>\n",
       "</table>\n",
       "<p>5 rows × 500 columns</p>\n",
       "</div>"
      ],
      "text/plain": [
       "        0         1         2         3         4         5         6    \\\n",
       "0  1.000000  1.000000  1.000000  1.000000  1.000000  1.000000  1.000000   \n",
       "1  1.000734  0.999712  0.998237  1.003406  1.008393  0.997498  0.999664   \n",
       "2  1.006858  1.002968  1.001195  0.997723  1.007478  0.996020  0.996898   \n",
       "3  1.006372  1.002684  1.001856  0.997835  1.006229  0.992280  1.000064   \n",
       "4  1.011327  1.004633  1.004339  1.001542  1.010242  0.993665  1.003102   \n",
       "\n",
       "        7         8         9    ...       490       491       492       493  \\\n",
       "0  1.000000  1.000000  1.000000  ...  1.000000  1.000000  1.000000  1.000000   \n",
       "1  1.007943  1.000837  0.996925  ...  1.001650  0.994703  1.002252  1.001714   \n",
       "2  1.002470  1.000314  0.996704  ...  1.004336  0.996975  1.003698  1.004215   \n",
       "3  0.997846  1.000294  1.003229  ...  1.004999  0.993501  1.004921  1.007249   \n",
       "4  0.993692  1.002659  1.004777  ...  1.003652  0.995610  1.005107  1.004128   \n",
       "\n",
       "        494       495       496       497       498       499  \n",
       "0  1.000000  1.000000  1.000000  1.000000  1.000000  1.000000  \n",
       "1  0.997404  1.002493  1.000484  1.003432  0.999305  0.996260  \n",
       "2  0.998267  0.994751  1.001138  1.002625  0.997999  0.999466  \n",
       "3  0.994611  0.996294  1.005230  0.999495  1.000130  1.002152  \n",
       "4  0.996547  0.995422  1.002762  1.001599  0.999740  1.003183  \n",
       "\n",
       "[5 rows x 500 columns]"
      ]
     },
     "execution_count": 16,
     "metadata": {},
     "output_type": "execute_result"
    }
   ],
   "source": [
    "# Check that the simulation ran successfully\n",
    "portfolio_cumulative_returns.head()"
   ]
  },
  {
   "cell_type": "code",
   "execution_count": 17,
   "metadata": {},
   "outputs": [
    {
     "data": {
      "text/plain": [
       "<matplotlib.axes._subplots.AxesSubplot at 0x104b4a850>"
      ]
     },
     "execution_count": 17,
     "metadata": {},
     "output_type": "execute_result"
    },
    {
     "data": {
      "image/png": "[encoded data removed]",
      "text/plain": [
       "<Figure size 432x288 with 1 Axes>"
      ]
     },
     "metadata": {
      "needs_background": "light"
     },
     "output_type": "display_data"
    }
   ],
   "source": [
    "# Visualize the Simulation\n",
    "plot_title = f\"{n+1} Simulated Retirement Portfolio\"\n",
    "portfolio_cumulative_returns.plot(legend=None, title=plot_title)"
   ]
  },
  {
   "cell_type": "code",
   "execution_count": 18,
   "metadata": {},
   "outputs": [
    {
     "data": {
      "text/plain": [
       "495    24.030627\n",
       "496    15.421765\n",
       "497    25.273166\n",
       "498    10.851077\n",
       "499    16.295540\n",
       "Name: 5040, dtype: float64"
      ]
     },
     "execution_count": 18,
     "metadata": {},
     "output_type": "execute_result"
    }
   ],
   "source": [
    "# Select the last row for the cumulative returns (cumulative returns at 20 years)\n",
    "ending_cumulative_returns = portfolio_cumulative_returns.iloc[252*20, :]\n",
    "ending_cumulative_returns.tail()"
   ]
  },
  {
   "cell_type": "code",
   "execution_count": 19,
   "metadata": {},
   "outputs": [
    {
     "data": {
      "text/plain": [
       "0.05    10.194368\n",
       "0.95    21.797992\n",
       "Name: 5040, dtype: float64"
      ]
     },
     "execution_count": 19,
     "metadata": {},
     "output_type": "execute_result"
    }
   ],
   "source": [
    "# Display the 90% confidence interval for the ending returns\n",
    "confidence_interval = ending_cumulative_returns.quantile(q=[0.05, 0.95])\n",
    "confidence_interval"
   ]
  },
  {
   "cell_type": "code",
   "execution_count": 20,
   "metadata": {},
   "outputs": [
    {
     "data": {
      "text/plain": [
       "<matplotlib.lines.Line2D at 0x1288d7310>"
      ]
     },
     "execution_count": 20,
     "metadata": {},
     "output_type": "execute_result"
    },
    {
     "data": {
      "image/png": "[encoded data removed]",
      "text/plain": [
       "<Figure size 720x360 with 1 Axes>"
      ]
     },
     "metadata": {
      "needs_background": "light"
     },
     "output_type": "display_data"
    }
   ],
   "source": [
    "# Visualize the distribution of the ending returns\n",
    "\n",
    "plt.figure();\n",
    "ending_cumulative_returns.plot.hist(\n",
    "    density=True,\n",
    "    bins=35,\n",
    "    figsize = (10,5),\n",
    "    title = \"90% Confidence Interval for Ending Returns\")\n",
    "plt.axvline(confidence_interval.iloc[0], color=\"r\")\n",
    "plt.axvline(confidence_interval.iloc[1], color=\"r\")"
   ]
  },
  {
   "cell_type": "markdown",
   "metadata": {},
   "source": [
    "---"
   ]
  },
  {
   "cell_type": "markdown",
   "metadata": {},
   "source": [
    "## Retirement Analysis\n",
    "\n",
    "In this section, you will use the monte carlo model to answer the following retirement planning questions:\n",
    "\n",
    "1. What are the expected cumulative returns at `30` years for the `10th`, `50th`, and `90th` percentiles?\n",
    "\n",
    "2. Given an initial investment of `$20,000`, what is the expected return in dollars at the `10th`, `50th`, and `90th` percentiles?\n",
    "\n",
    "3. Given the current projected annual income from the Plaid analysis, will a `4%` withdrawal rate meet or exceed that value at the `10th` percentile? Note: This is basically determining if retirement income is equivalent to current income.\n",
    "\n",
    "4. How would a `50%` increase in the initial investment amount affect the `4%` retirement withdrawal? In other words, what happens if the initial investment had been bigger?"
   ]
  },
  {
   "cell_type": "markdown",
   "metadata": {},
   "source": [
    "###What are the expected cumulative returns at 30 years for the 10th, 50th, and 90th percentiles?"
   ]
  },
  {
   "cell_type": "code",
   "execution_count": 21,
   "metadata": {},
   "outputs": [
    {
     "name": "stdout",
     "output_type": "stream",
     "text": [
      "Expected cumulative portfolio return at 30 years for the 10th percentile is 40.2.\n",
      "Expected cumulative portfolio return at 30 years for the 50th percentile is 58.91.\n",
      "Expected cumulative portfolio return at 30 years for the 90th percentile is 82.98.\n"
     ]
    }
   ],
   "source": [
    "ending_cumulative_returns = portfolio_cumulative_returns.iloc[252*30, :]\n",
    "# Compute cumulative returns\n",
    "print(f\"Expected cumulative portfolio return at 30 years for the 10th percentile is {round(np.percentile(ending_cumulative_returns,10),2)}.\")\n",
    "print(f\"Expected cumulative portfolio return at 30 years for the 50th percentile is {round(np.percentile(ending_cumulative_returns,50),2)}.\")\n",
    "print(f\"Expected cumulative portfolio return at 30 years for the 90th percentile is {round(np.percentile(ending_cumulative_returns,90),2)}.\")"
   ]
  },
  {
   "cell_type": "markdown",
   "metadata": {},
   "source": [
    "### Given an initial investment of `$20,000`, what is the expected portfolio return in dollars at the 10th, 50th, and 90th percentiles?"
   ]
  },
  {
   "cell_type": "code",
   "execution_count": 28,
   "metadata": {},
   "outputs": [
    {
     "name": "stdout",
     "output_type": "stream",
     "text": [
      "Expected portfolio return in dollars at the 10th percentile is $803952.06.\n",
      "Expected portfolio return in dollars at the 50th percentile is $1178287.29.\n",
      "Expected portfolio return in dollars at the 90th percentile is $1659614.77.\n"
     ]
    }
   ],
   "source": [
    "# Set initial investment\n",
    "initial_investment = 20000\n",
    "cumulative_pnl = initial_investment * ending_cumulative_returns\n",
    "# Compute expected portfolio return\n",
    "print(f\"Expected portfolio return in dollars at the 10th percentile is ${round(np.percentile(cumulative_pnl,10),2)}.\")\n",
    "print(f\"Expected portfolio return in dollars at the 50th percentile is ${round(np.percentile(cumulative_pnl,50),2)}.\")\n",
    "print(f\"Expected portfolio return in dollars at the 90th percentile is ${round(np.percentile(cumulative_pnl,90),2)}.\")"
   ]
  },
  {
   "cell_type": "markdown",
   "metadata": {},
   "source": [
    "### Given the current projected annual income from the Plaid analysis, will a 4% withdraw rate from the retirement portfolio meet or exceed that value at the 10th percentile?\n",
    "\n",
    "Note: This is effectively saying that 90% of the expected returns will be greater than the return at the 10th percentile, so this can help measure the uncertainty about having enough funds at retirement"
   ]
  },
  {
   "cell_type": "code",
   "execution_count": 29,
   "metadata": {},
   "outputs": [
    {
     "name": "stdout",
     "output_type": "stream",
     "text": [
      "The 4% withdraw is equal or greater than the projected annual income\n"
     ]
    },
    {
     "data": {
      "text/plain": [
       "32158.082400000003"
      ]
     },
     "execution_count": 29,
     "metadata": {},
     "output_type": "execute_result"
    }
   ],
   "source": [
    "# Set Plaid's projected income\n",
    "# Calculate the 4% withdrawal for the ending return as retirement income\n",
    "# Determine if the retirement income meets or exceeds the current projected income\n",
    "\n",
    "projected_yearly_income=7389\n",
    "withdraw = 0.04*(round(np.percentile(cumulative_pnl,10),2))\n",
    "\n",
    "if withdraw >= projected_yearly_income:\n",
    "    print(\"The 4% withdraw is equal or greater than the projected annual income\")\n",
    "else:\n",
    "    print(\"The 4% withdraw is less than the projected annual income\")\n",
    "withdraw"
   ]
  },
  {
   "cell_type": "markdown",
   "metadata": {},
   "source": [
    "### How would a 50% increase in the initial investment amount affect the 4% retirement withdrawal?"
   ]
  },
  {
   "cell_type": "code",
   "execution_count": 38,
   "metadata": {},
   "outputs": [
    {
     "name": "stdout",
     "output_type": "stream",
     "text": [
      "The 4% withdraw is equal or greater than the projected annual income\n",
      "16079.0416\n",
      "10000.0\n"
     ]
    }
   ],
   "source": [
    "# Re-calculate the retirement income with a 50% increase in the initial investment amount\n",
    "\n",
    "initial_investment_plus = 1.5*initial_investment\n",
    "cumulative_pnl_plus = initial_investment_plus * ending_cumulative_returns\n",
    "withdraw_plus = 0.04*(round(np.percentile(cumulative_pnl_plus,10),2))\n",
    "\n",
    "projected_yearly_income = 7389\n",
    "\n",
    "if withdraw_plus >= projected_yearly_income:\n",
    "    print(\"The 4% withdraw is equal or greater than the projected annual income\")\n",
    "else:\n",
    "    print(\"The 4% withdraw is less than the projected annual income\")\n",
    "\n",
    "new_withdraw = withdraw_plus - withdraw\n",
    "print(new_withdraw)    \n",
    "difference_increase_investment_by_50pct = initial_investment_plus - initial_investment\n",
    "print(difference_increase_investment_by_50pct)"
   ]
  },
  {
   "cell_type": "markdown",
   "metadata": {},
   "source": [
    "### Optional Challenge\n",
    "\n",
    "Use the Monte Carlo data and calculate the cumulative returns at the `5%`, `50%`, and `95%` quartiles and plot this data as a line chart to see how the cumulative returns change over the life of the investment.\n",
    "\n",
    "In this section, you need to calculate and plot the cumulative returns for the median and `90%` confidence intervals. This plot shows the expected cumulative returns for any given day between the first day and the last day of investment. "
   ]
  },
  {
   "cell_type": "code",
   "execution_count": null,
   "metadata": {},
   "outputs": [],
   "source": [
    "# Compute projected returns\n",
    "# Display sample data\n",
    "\n",
    "for x in range(num_records):\n",
    "    proj_returns = simulated_daily_returns[-1]*(simulated_daily_returns.quantile([.05,.5,.95]))  "
   ]
  },
  {
   "cell_type": "code",
   "execution_count": 40,
   "metadata": {},
   "outputs": [
    {
     "data": {
      "image/png": "[encoded data removed]",
      "text/plain": [
       "<Figure size 432x288 with 1 Axes>"
      ]
     },
     "metadata": {
      "needs_background": "light"
     },
     "output_type": "display_data"
    }
   ],
   "source": [
    "# Plot the cumulative returns over time\n"
   ]
  },
  {
   "cell_type": "code",
   "execution_count": null,
   "metadata": {},
   "outputs": [],
   "source": [
    "# Compute portfolio performance over time\n",
    "\n",
    "# Plot projected performance over time\n"
   ]
  }
 ],
 "metadata": {
  "kernelspec": {
   "display_name": "Python 3",
   "language": "python",
   "name": "python3"
  },
  "language_info": {
   "codemirror_mode": {
    "name": "ipython",
    "version": 3
   },
   "file_extension": ".py",
   "mimetype": "text/x-python",
   "name": "python",
   "nbconvert_exporter": "python",
   "pygments_lexer": "ipython3",
   "version": "3.7.6"
  }
 },
 "nbformat": 4,
 "nbformat_minor": 4
}
