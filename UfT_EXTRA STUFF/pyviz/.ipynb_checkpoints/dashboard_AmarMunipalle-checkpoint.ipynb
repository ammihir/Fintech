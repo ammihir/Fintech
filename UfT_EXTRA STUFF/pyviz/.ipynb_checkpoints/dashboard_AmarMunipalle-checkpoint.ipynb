{
 "cells": [
  {
   "cell_type": "markdown",
   "metadata": {},
   "source": [
    "# Toronto Dwellings Analysis Dashboard\n",
    "\n",
    "In this notebook, you will compile the visualizations from the previous analysis into functions to create a Panel dashboard."
   ]
  },
  {
   "cell_type": "code",
   "execution_count": 3,
   "metadata": {},
   "outputs": [],
   "source": [
    "# initial imports\n",
    "import os\n",
    "import pandas as pd\n",
    "import matplotlib.pyplot as plt\n",
    "import panel as pn\n",
    "import plotly.express as px\n",
    "from pathlib import Path\n",
    "from dotenv import load_dotenv\n",
    "from matplotlib.figure import Figure\n",
    "pn.extension(\"plotly\")\n",
    "\n",
    "import hvplot.pandas\n"
   ]
  },
  {
   "cell_type": "code",
   "execution_count": 4,
   "metadata": {},
   "outputs": [],
   "source": [
    "# Initialize the Panel Extensions (for Plotly)\n",
    "\n"
   ]
  },
  {
   "cell_type": "code",
   "execution_count": 7,
   "metadata": {},
   "outputs": [
    {
     "ename": "ModuleNotFoundError",
     "evalue": "No module named 'pandas_bokeh'",
     "output_type": "error",
     "traceback": [
      "\u001b[1;31m---------------------------------------------------------------------------\u001b[0m",
      "\u001b[1;31mModuleNotFoundError\u001b[0m                       Traceback (most recent call last)",
      "\u001b[1;32m<ipython-input-7-2d27162c85e9>\u001b[0m in \u001b[0;36m<module>\u001b[1;34m\u001b[0m\n\u001b[1;32m----> 1\u001b[1;33m \u001b[1;32mimport\u001b[0m \u001b[0mpandas_bokeh\u001b[0m\u001b[1;33m\u001b[0m\u001b[1;33m\u001b[0m\u001b[0m\n\u001b[0m\u001b[0;32m      2\u001b[0m \u001b[0mpandas_bokeh\u001b[0m\u001b[1;33m.\u001b[0m\u001b[0moutput_notebook\u001b[0m\u001b[1;33m(\u001b[0m\u001b[1;33m)\u001b[0m\u001b[1;33m\u001b[0m\u001b[1;33m\u001b[0m\u001b[0m\n\u001b[0;32m      3\u001b[0m \u001b[1;31m# imported pandas_bokeh to print certain bar graphs in bokeh as matplotlib was not working\u001b[0m\u001b[1;33m\u001b[0m\u001b[1;33m\u001b[0m\u001b[1;33m\u001b[0m\u001b[0m\n",
      "\u001b[1;31mModuleNotFoundError\u001b[0m: No module named 'pandas_bokeh'"
     ]
    }
   ],
   "source": [
    "import pandas_bokeh\n",
    "pandas_bokeh.output_notebook()\n",
    "# imported pandas_bokeh to print certain bar graphs in bokeh as matplotlib was not working"
   ]
  },
  {
   "cell_type": "code",
   "execution_count": 6,
   "metadata": {},
   "outputs": [
    {
     "name": "stdout",
     "output_type": "stream",
     "text": [
      "None\n"
     ]
    }
   ],
   "source": [
    "# Read the Mapbox API key\n",
    "load_dotenv()\n",
    "map_box_api = os.getenv(\"mapbox\")\n",
    "px.set_mapbox_access_token(map_box_api)\n",
    "print(map_box_api)"
   ]
  },
  {
   "cell_type": "markdown",
   "metadata": {},
   "source": [
    "# Import Data"
   ]
  },
  {
   "cell_type": "code",
   "execution_count": null,
   "metadata": {},
   "outputs": [],
   "source": [
    "# Import the CSVs to Pandas DataFrames\n",
    "file_path = Path(\"Data/toronto_neighbourhoods_census_data.csv\")\n",
    "to_data = pd.read_csv(file_path, index_col=\"year\")\n",
    "\n",
    "file_path = Path(\"Data/toronto_neighbourhoods_coordinates.csv\")\n",
    "df_neighbourhood_locations = pd.read_csv(file_path)"
   ]
  },
  {
   "cell_type": "markdown",
   "metadata": {},
   "source": [
    "- - -"
   ]
  },
  {
   "cell_type": "markdown",
   "metadata": {},
   "source": [
    "## Panel Visualizations\n",
    "\n",
    "In this section, you will copy the code for each plot type from your analysis notebook and place it into separate functions that Panel can use to create panes for the dashboard. \n",
    "\n",
    "These functions will convert the plot object to a Panel pane.\n",
    "\n",
    "Be sure to include any DataFrame transformation/manipulation code required along with the plotting code.\n",
    "\n",
    "Return a Panel pane object from each function that can be used to build the dashboard.\n",
    "\n",
    "Note: Remove any `.show()` lines from the code. We want to return the plots instead of showing them. The Panel dashboard will then display the plots."
   ]
  },
  {
   "cell_type": "markdown",
   "metadata": {},
   "source": [
    "### Global available data"
   ]
  },
  {
   "cell_type": "code",
   "execution_count": null,
   "metadata": {},
   "outputs": [],
   "source": [
    "# Getting the data from the top 10 expensive neighbourhoods. Coded as average across all years.\n",
    "Top10Neighborhood=to_data.groupby(['neighbourhood']).mean().sort_values(by=['average_house_value'],ascending=False).head(10)\n",
    "\n",
    "# Calculate the mean number of dwelling types units per year\n",
    "NewDF7=to_data.reset_index()\n",
    "NewDF7['average dwelling']=NewDF7.iloc[:,2:10].mean(axis=1)\n",
    "MeanByYear=NewDF7[['year','average dwelling']].groupby(by='year').mean()\n",
    "MeanByYear.head()\n",
    "\n",
    "# Calculate the average monthly shelter costs for owned and rented dwellings\n",
    "ShelterCosts=NewDF7[['year','shelter_costs_owned','shelter_costs_rented']].groupby(by='year').mean()\n",
    "\n",
    "df_dwelling_units=to_data[['single_detached_house','apartment_five_storeys_plus','movable_dwelling','semi_detached_house','row_house','duplex','apartment_five_storeys_less','other_house']].groupby(by='year').sum()\n",
    "\n",
    "# Two additional global variables to produce neighbourhood / year bar graph\n",
    "TempDF=to_data.reset_index()\n",
    "TempDF2=TempDF.iloc[:,:10]\n"
   ]
  },
  {
   "cell_type": "markdown",
   "metadata": {},
   "source": [
    "### Panel Visualization Functions"
   ]
  },
  {
   "cell_type": "code",
   "execution_count": null,
   "metadata": {},
   "outputs": [],
   "source": [
    "# Define Panel visualization functions\n",
    "def neighbourhood_map():\n",
    "    MeanValuesNeighbourhood=to_data.groupby(by='neighbourhood').mean().reset_index()\n",
    "    JoinedDF=df_neighbourhood_locations.merge(MeanValuesNeighbourhood, on=\"neighbourhood\", how = 'inner')\n",
    "    neigh_map = px.scatter_mapbox(JoinedDF, lat=\"lat\", lon=\"lon\",color=\"average_house_value\", size=\"average_house_value\",hover_name='neighbourhood',\n",
    "                        hover_data=['shelter_costs_owned', 'shelter_costs_rented','single_detached_house', 'apartment_five_storeys_plus', 'movable_dwelling',\n",
    "       'semi_detached_house', 'row_house', 'duplex','apartment_five_storeys_less', 'other_house','lat', 'lon'],\n",
    "                  color_continuous_scale=px.colors.cyclical.IceFire, size_max=15, zoom=10)\n",
    "    return neigh_map\n",
    "\n",
    "def create_bar_chart(data, title, xlabel, ylabel, color):\n",
    "    mpl_fig = plt.figure()\n",
    "    mpl_fig=data.plot.bar(title=title,color=color[0])\n",
    "    #ax = fig.subplots()\n",
    "    #ax=data.plot.bar(title=title,color=color[0])\n",
    "    mpl_fig.set_xlabel(xlabel)\n",
    "    mpl_fig.set_ylabel(ylabel)\n",
    "    #ax.set_xlabel(xlabel)\n",
    "    #ax.set_ylabel(ylabel)\n",
    "    return mpl_fig\n",
    "    \n",
    "    \n",
    "def create_line_chart(data, title, xlabel, ylabel, color):\n",
    "    mpl_fig1=plt.figure()\n",
    "    mpl_fig1=data.plot.line(title=title,color=color[0])\n",
    "    mpl_fig1.set_xlabel(xlabel)\n",
    "    mpl_fig1.set_ylabel(ylabel)\n",
    "    return mpl_fig1\n",
    "\n",
    "# Created another bokeh based line chart as Matplotlib version is not loading\n",
    "def create_line_chart_bokeh(data, title, xlabel, ylabel, color):\n",
    "    colourmap=[]\n",
    "    colourmap.append(color)\n",
    "    mpl_fig1=data.plot_bokeh(\n",
    "    kind=\"line\",\n",
    "    figsize=(500, 250),\n",
    "    title=title,\n",
    "    xlabel=xlabel,\n",
    "    ylabel=ylabel,\n",
    "    toolbar_location=None,\n",
    "    colormap=colourmap,\n",
    "    legend= \"top_left\",\n",
    "    panning=False,\n",
    "    zooming=False)\n",
    "    return mpl_fig1\n",
    "\n",
    "def average_house_value():\n",
    "    NewDF4=to_data['average_house_value'].groupby(by='year').mean()\n",
    "    ax2=NewDF4.plot.line(title=\"Average House Value in Toronto\",color='b')\n",
    "    ax2.set_xlabel(\"Year\")\n",
    "    ax2.set_ylabel(\"Avg. House Value\")\n",
    "    return ax2\n",
    "\n",
    "# Created another bokeh based line chart as Matplotlib version is not loading\n",
    "def average_house_value_bokeh():\n",
    "    NewDF4=to_data['average_house_value'].groupby(by='year').mean()\n",
    "    ax2=NewDF4.plot_bokeh(kind=\"line\",figsize=(500, 250),title=\"Average House Value in Toronto\",xlabel=\"Year\",\n",
    "                          ylabel=\"Avg. House Value\",legend= \"top_left\",disable_scientific_axes=\"y\",colormap=['blue'])\n",
    "    return ax2\n",
    "\n",
    "\n",
    "def average_value_by_neighbourhood():\n",
    "    NewDF5=to_data[['neighbourhood','average_house_value']].groupby(['year','neighbourhood']).mean().reset_index()\n",
    "    avg_value_neighbourhood=NewDF5.hvplot.line(x='year',y='average_house_value',\n",
    "                                               groupby='neighbourhood',value_label='Average House by Neighborhood',\n",
    "                                               ylim=(100000, 2200000)).opts(framewise=True,yformatter='$%.2f')\n",
    "    return avg_value_neighbourhood\n",
    "    \n",
    "\n",
    "def number_dwelling_types():\n",
    "    #used NewDF7 created in global data\n",
    "    num_dwelling_hvplot=TempDF2.groupby(['year','neighbourhood','single_detached_house','apartment_five_storeys_plus',\n",
    "                                         'movable_dwelling','semi_detached_house','row_house','duplex','apartment_five_storeys_less',\n",
    "                                         'other_house']).sum().hvplot.bar(stacked=False,groupby='neighbourhood',height=500,rot=90)\n",
    "    return num_dwelling_hvplot                                                                                                              \n",
    "\n",
    "def average_house_value_snapshot():\n",
    "    BarFacetDF=to_data[['neighbourhood','average_house_value']].reset_index()\n",
    "    fig = px.bar(BarFacetDF,x='neighbourhood', y=\"average_house_value\", color=\"average_house_value\",facet_row=\"year\")\n",
    "    return fig\n",
    "\n",
    "def top_most_expensive_neighbourhoods():\n",
    "    top_10_bar=Top10Neighborhood.hvplot.bar(y='average_house_value',height=500,rot=90).opts(framewise=True,yformatter='$%.2f')\n",
    "    return top_10_bar\n",
    "\n",
    "# Replace matplotlib with bokeh for the dwellings graphs as matplotlib was not printing\n",
    "def create_bar_chart_bokeh(data, title, xlabel, ylabel, color):\n",
    "    colormap=[]\n",
    "    colormap.append(color)\n",
    "    ax=data.plot_bokeh(\n",
    "    kind='bar',\n",
    "    xlabel=xlabel,\n",
    "    ylabel=ylabel,\n",
    "    vertical_xlabel=True,\n",
    "    title=title,\n",
    "    figsize=(800, 400),\n",
    "    colormap=colormap,\n",
    "    disable_scientific_axes=\"y\")\n",
    "    return ax\n",
    "\n",
    "def sunburts_cost_analysis():\n",
    "    ExpensiveDF_subset=to_data[['neighbourhood','average_house_value']]\n",
    "    df_agg = to_data.groupby(['year','neighbourhood','shelter_costs_owned','shelter_costs_rented']).agg({'average_house_value':sum})\n",
    "    g = df_agg['average_house_value'].groupby(level=0, group_keys=False)\n",
    "    testdf=g.nlargest(10)\n",
    "    idx=testdf.index\n",
    "    data = {'neighbourhood':idx.get_level_values(1), 'shelter_costs_owned':idx.get_level_values(2),\n",
    "            'shelter_costs_rented':idx.get_level_values(3),'average_home_value':testdf.values} \n",
    "    ExpensiveDF=pd.DataFrame(data=data,index=idx.get_level_values(0))\n",
    "    ExpensiveDF=ExpensiveDF.reset_index()\n",
    "    sunburst_exp_plot = px.sunburst(ExpensiveDF, path=['year','neighbourhood'], values='average_home_value',\n",
    "                  color='shelter_costs_owned', hover_data=['shelter_costs_owned','shelter_costs_rented'],\n",
    "                  color_continuous_scale='ice'\n",
    "                  )\n",
    "    return sunburst_exp_plot"
   ]
  },
  {
   "cell_type": "code",
   "execution_count": null,
   "metadata": {},
   "outputs": [],
   "source": [
    "#Toronto (tab name)\n",
    "jpg_path= Path(\"toronto.jpg\")\n",
    "pane_image=pn.panel('toronto.jpg')\n",
    "TorontoRow=pn.Row(\"#I love Toronto. It's a real melting pot in every sense of the word. There's all sorts of different people everywhere you go. There's all sorts of great music, great restaurants and great night spots. - PRINCE\",pane_image)\n",
    "\n",
    "#Welcome (tab name)\n",
    "pane_welcome=pn.panel(neighbourhood_map())\n",
    "WelcomeRow=pn.Row(\"##Welcome to Toronto\",pane_welcome)\n",
    "\n",
    "\n",
    "#Top Expensive Neighbourhoods (tab name)\n",
    "pane_expensive=pn.panel(top_most_expensive_neighbourhoods())\n",
    "pane_sunburst=pn.panel(sunburts_cost_analysis())\n",
    "NeighbourhoodRow=pn.Column(\"#Top Most Expensive Neighbourhoods\",pane_expensive,pane_sunburst)\n",
    "\n",
    "\n",
    "\n",
    "#Yearly Market Analysis (not used)\n",
    "pane_2001=pn.panel(create_bar_chart(df_dwelling_units.loc[2001], \"Dwelling Types in Toronto in 2001\", \"2001\", \"Dwelling Type Units\", \"red\"))\n",
    "pane_2006=pn.panel(create_bar_chart(df_dwelling_units.loc[2006], \"Dwelling Types in Toronto in 2006\", \"2006\", \"Dwelling Type Units\", \"blue\"))\n",
    "pane_2011=pn.panel(create_bar_chart(df_dwelling_units.loc[2011], \"Dwelling Types in Toronto in 2011\", \"2011\", \"Dwelling Type Units\", \"yellow\"))\n",
    "pane_2016=pn.panel(create_bar_chart(df_dwelling_units.loc[2016], \"Dwelling Types in Toronto in 2016\", \"2016\", \"Dwelling Type Units\", \"magenta\"))\n",
    "YearlyMarketRow1=pn.Row(\"##2001 and 2006 Data\",pane_2001,pane_2006)\n",
    "YearlyMarketRow2=pn.Row(\"##2011 and 2016 Data\",pane_2011,pane_2016)\n",
    "FinalYearlyMarketColumn=pn.Column(\"#Price Trends 2001,2006,2011 and 2016\",YearlyMarketRow1,YearlyMarketRow2)\n",
    "\n",
    "#Yearly Market Analysis Bokeh (tab name)\n",
    "pane_2001_bokeh=pn.panel(create_bar_chart_bokeh(df_dwelling_units.loc[2001], \"Dwelling Types in Toronto in 2001\", \"2001\", \"Dwelling Type Units\", \"red\"))\n",
    "pane_2006_bokeh=pn.panel(create_bar_chart_bokeh(df_dwelling_units.loc[2006], \"Dwelling Types in Toronto in 2006\", \"2006\", \"Dwelling Type Units\", \"blue\"))\n",
    "pane_2011_bokeh=pn.panel(create_bar_chart_bokeh(df_dwelling_units.loc[2011], \"Dwelling Types in Toronto in 2011\", \"2011\", \"Dwelling Type Units\", \"yellow\"))\n",
    "pane_2016_bokeh=pn.panel(create_bar_chart_bokeh(df_dwelling_units.loc[2016], \"Dwelling Types in Toronto in 2016\", \"2016\", \"Dwelling Type Units\", \"magenta\"))\n",
    "YearlyMarketRow1_bokeh=pn.Row(pane_2001_bokeh,pane_2006_bokeh)\n",
    "YearlyMarketRow2_bokeh=pn.Row(pane_2011_bokeh,pane_2016_bokeh)\n",
    "FinalYearlyMarketColumn_bokeh=pn.Column(\"##Price Trends 2001,2006,2011 and 2016\",YearlyMarketRow1_bokeh,YearlyMarketRow2_bokeh)\n",
    "\n",
    "#Neighbourhood Analysis (tab name)\n",
    "pane_facet_graph=pn.panel(average_house_value_snapshot())\n",
    "pane_top10_Neighbourhoods=pn.panel(top_most_expensive_neighbourhoods())\n",
    "pane_dwelling_types=pn.panel(number_dwelling_types())\n",
    "pane_avg_value_neighbourhood=pn.panel(average_value_by_neighbourhood())\n",
    "NeighbourhoodCol1=pn.Column(\"# Average Price \",pane_facet_graph)\n",
    "NeighbourhoodCol2=pn.Column(pane_dwelling_types,pane_avg_value_neighbourhood)\n",
    "Final_Neighbourhood=pn.Column(NeighbourhoodCol2,NeighbourhoodCol1)\n",
    "\n",
    "#Shelter costs vs. House Value (not used in panel)\n",
    "pane_shelter=pn.panel(create_line_chart(ShelterCosts[\"shelter_costs_owned\"], \n",
    "                                        \"Average Monthly Shelter Cost for Owned Dwellings in Toronto\", \n",
    "                                        \"Year\", \"Avg Monthly Shelter Costs\", \"blue\"))\n",
    "pane_rent=pn.panel(create_line_chart(ShelterCosts[\"shelter_costs_rented\"], \n",
    "                                     \"Average Monthly Shelter Cost for Rented Dwellings in Toronto\", \n",
    "                                     \"Year\", \"Avg Monthly Shelter Costs\", \"yellow\"))\n",
    "pane_avg_house_value=pn.panel(average_house_value())\n",
    "SheltervsOwned=pn.Column(\"##Rents kept pace with price trends since 2006\",pane_shelter,pane_rent,pane_avg_house_value)\n",
    "\n",
    "#Shelter costs vs. House Value BOKEH based (tab name)\n",
    "pane_shelter_bokeh=pn.panel(create_line_chart_bokeh(ShelterCosts[\"shelter_costs_owned\"], \n",
    "                            \"Average Monthly Shelter Cost for Owned Dwellings in Toronto\", \"Year\", \"Avg Monthly Shelter Costs\", \"blue\"))\n",
    "pane_rent_bokeh=pn.panel(create_line_chart_bokeh(ShelterCosts[\"shelter_costs_rented\"], \n",
    "                            \"Average Monthly Shelter Cost for Rented Dwellings in Toronto\", \"Year\", \"Avg Monthly Shelter Costs\", \"yellow\"))\n",
    "pane_avg_house_value_bokeh=pn.panel(average_house_value_bokeh())\n",
    "SheltervsOwned=pn.Column(\"##Rents kept pace with price trends since 2006\",pane_shelter_bokeh,pane_rent_bokeh,pane_avg_house_value_bokeh)\n",
    "\n",
    "## Code to compare total dwelling units with population increase\n",
    "from numpy import arange, linspace, pi, sin\n",
    "from bokeh.models import LinearAxis, Range1d\n",
    "from bokeh.plotting import figure, output_file, show\n",
    "from bokeh.io import output_notebook\n",
    "from bokeh.models import NumeralTickFormatter\n",
    "\n",
    "###Code to add Total Dwellings and Population from TOR census data\n",
    "PopvsDwellings=to_data.copy()\n",
    "PopvsDwellings=PopvsDwellings.reset_index()\n",
    "PopvsDwellings['Total Dwellings']=PopvsDwellings.iloc[:,2:10].sum(axis=1)\n",
    "SummaryPopvsSupply=PopvsDwellings[['year','Total Dwellings']].groupby(by='year').sum()\n",
    "SummaryPopvsSupply['population']=[2481494,2503281,2615060,2731571]\n",
    "\n",
    "###Bokeh line chart with two axes\n",
    "x = SummaryPopvsSupply.index\n",
    "y2 = SummaryPopvsSupply['Total Dwellings']\n",
    "y = SummaryPopvsSupply['population']\n",
    "p = figure(title=\"Population vs. Housing Supply\",y_range=(2000000, 3000000), min_border=80)\n",
    "p.background_fill_color = \"#fafafa\"\n",
    "p.line(x, y, color=\"crimson\")\n",
    "p.yaxis.axis_label = \"Population\"\n",
    "p.yaxis.axis_label_text_color =\"crimson\"\n",
    "p.yaxis.formatter.use_scientific = False\n",
    "p.yaxis[0].formatter = NumeralTickFormatter(format=\"0,0\")\n",
    "p.extra_y_ranges['Supply'] = Range1d(750000, 1500000)\n",
    "p.line(x, y2, color=\"navy\",  y_range_name=\"Supply\")\n",
    "ax2 = LinearAxis(y_range_name=\"Supply\", axis_label=\"Housing Supply\")\n",
    "ax2.axis_label_text_color =\"navy\"\n",
    "ax2.formatter.use_scientific = False\n",
    "ax2.formatter=NumeralTickFormatter(format=\"0,0\")\n",
    "p.add_layout(ax2, 'right')\n",
    "SupplyvDemand=pn.panel(p)\n"
   ]
  },
  {
   "cell_type": "code",
   "execution_count": null,
   "metadata": {},
   "outputs": [],
   "source": []
  },
  {
   "cell_type": "markdown",
   "metadata": {},
   "source": [
    "## Panel Dashboard\n",
    "\n",
    "In this section, you will combine all of the plots into a single dashboard view using Panel. Be creative with your dashboard design!"
   ]
  },
  {
   "cell_type": "markdown",
   "metadata": {},
   "source": [
    "## Serve the Panel Dashboard"
   ]
  },
  {
   "cell_type": "code",
   "execution_count": null,
   "metadata": {},
   "outputs": [],
   "source": [
    "#Dashboard\n",
    "dashboard=pn.Tabs((\"Toronto\",TorontoRow),(\"Welcome\",WelcomeRow),(\"Shelter vs. Owned\",SheltervsOwned),('Supply vs Demand', SupplyvDemand),\n",
    "                  (\"Top Expensive Neighbourhood\",NeighbourhoodRow),(\"Yearly Market Analysis\",FinalYearlyMarketColumn_bokeh),\n",
    "                  (\"Neighbourhood Analysis\",Final_Neighbourhood))\n",
    "dashboard.servable()"
   ]
  },
  {
   "cell_type": "markdown",
   "metadata": {},
   "source": [
    "# Debugging\n",
    "\n",
    "Note: Some of the Plotly express plots may not render in the notebook through the panel functions.\n",
    "\n",
    "However, you can test each plot by uncommenting the following code"
   ]
  },
  {
   "cell_type": "code",
   "execution_count": null,
   "metadata": {},
   "outputs": [],
   "source": [
    "#neighbourhood_map().show()"
   ]
  },
  {
   "cell_type": "code",
   "execution_count": null,
   "metadata": {},
   "outputs": [],
   "source": [
    "# create_bar_chart(data, title, xlabel, ylabel, color)\n",
    "\n",
    "# # Bar chart for 2001\n",
    "#create_bar_chart(df_dwelling_units.loc[2001], \"Dwelling Types in Toronto in 2001\", \"2001\", \"Dwelling Type Units\", \"red\")\n",
    "\n",
    "# # Bar chart for 2006\n",
    "# create_bar_chart(df_dwelling_units.loc[2006], \"Dwelling Types in Toronto in 2006\", \"2006\", \"Dwelling Type Units\", \"blue\")\n",
    "\n",
    "# # Bar chart for 2011\n",
    "# create_bar_chart(df_dwelling_units.loc[2011], \"Dwelling Types in Toronto in 2011\", \"2011\", \"Dwelling Type Units\", \"orange\")\n",
    "\n",
    "# # Bar chart for 2016\n",
    "# create_bar_chart(df_dwelling_units.loc[2016], \"Dwelling Types in Toronto in 2016\", \"2016\", \"Dwelling Type Units\", \"magenta\")"
   ]
  },
  {
   "cell_type": "code",
   "execution_count": null,
   "metadata": {},
   "outputs": [],
   "source": [
    "# create_line_chart(data, title, xlabel, ylabel, color)\n",
    "\n",
    "# # Line chart for owned dwellings\n",
    "# create_line_chart(df_avg_costs[\"shelter_costs_owned\"], \"Average Monthly Shelter Cost for Owned Dwellings in Toronto\", \"Year\", \"Avg Monthly Shelter Costs\", \"blue\")\n",
    "\n",
    "# # Line chart for rented dwellings\n",
    "# create_line_chart(df_avg_costs[\"shelter_costs_rented\"], \"Average Monthly Shelter Cost for Rented Dwellings in Toronto\", \"Year\", \"Avg Monthly Shelter Costs\", \"orange\")"
   ]
  },
  {
   "cell_type": "code",
   "execution_count": null,
   "metadata": {},
   "outputs": [],
   "source": [
    "#average_house_value()"
   ]
  },
  {
   "cell_type": "code",
   "execution_count": null,
   "metadata": {},
   "outputs": [],
   "source": [
    "#average_value_by_neighbourhood()"
   ]
  },
  {
   "cell_type": "code",
   "execution_count": null,
   "metadata": {},
   "outputs": [],
   "source": [
    "#number_dwelling_types()"
   ]
  },
  {
   "cell_type": "code",
   "execution_count": null,
   "metadata": {},
   "outputs": [],
   "source": [
    "# average_house_value_snapshot()"
   ]
  },
  {
   "cell_type": "code",
   "execution_count": null,
   "metadata": {},
   "outputs": [],
   "source": [
    "#top_most_expensive_neighbourhoods()"
   ]
  },
  {
   "cell_type": "code",
   "execution_count": null,
   "metadata": {},
   "outputs": [],
   "source": [
    "#sunburts_cost_analysis()"
   ]
  },
  {
   "cell_type": "code",
   "execution_count": null,
   "metadata": {},
   "outputs": [],
   "source": [
    "pip install pandas_"
   ]
  }
 ],
 "metadata": {
  "file_extension": ".py",
  "kernelspec": {
   "display_name": "Python 3",
   "language": "python",
   "name": "python3"
  },
  "language_info": {
   "codemirror_mode": {
    "name": "ipython",
    "version": 3
   },
   "file_extension": ".py",
   "mimetype": "text/x-python",
   "name": "python",
   "nbconvert_exporter": "python",
   "pygments_lexer": "ipython3",
   "version": "3.7.6"
  },
  "mimetype": "text/x-python",
  "name": "python",
  "npconvert_exporter": "python",
  "pygments_lexer": "ipython3",
  "version": 3
 },
 "nbformat": 4,
 "nbformat_minor": 4
}
