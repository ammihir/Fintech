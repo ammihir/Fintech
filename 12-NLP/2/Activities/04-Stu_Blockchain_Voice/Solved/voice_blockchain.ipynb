{
 "cells": [
  {
   "cell_type": "markdown",
   "metadata": {},
   "source": [
    "# The Voice of the Blockchain\n",
    "\n",
    "Canada lies at the frontier of the blockchain sector with increasing adoption rates and favorable regulations. In this activity you will retrieve news articles regarding blockchain in Canada for both English and French languages to capture the voice of the blockchain."
   ]
  },
  {
   "cell_type": "code",
   "execution_count": 1,
   "metadata": {},
   "outputs": [],
   "source": [
    "# Initial imports\n",
    "import os\n",
    "import pandas as pd\n",
    "from path import Path\n",
    "from dotenv import load_dotenv\n",
    "from newsapi import NewsApiClient"
   ]
  },
  {
   "cell_type": "code",
   "execution_count": 2,
   "metadata": {},
   "outputs": [],
   "source": [
    "# Load environment variables and retrieve the News API key\n",
    "load_dotenv()\n",
    "api_key = os.getenv(\"NEWS_API_KEY\")"
   ]
  },
  {
   "cell_type": "code",
   "execution_count": 3,
   "metadata": {},
   "outputs": [],
   "source": [
    "# Create the newsapi client\n",
    "newsapi = NewsApiClient(api_key=api_key)"
   ]
  },
  {
   "cell_type": "markdown",
   "metadata": {},
   "source": [
    "## Getting News Articles in English\n",
    "\n",
    "In this section you have to fetch all the news articles using the News API with the keywords `blockchain`, `canada`, and `2020` in English.\n",
    "\n"
   ]
  },
  {
   "cell_type": "code",
   "execution_count": 4,
   "metadata": {},
   "outputs": [
    {
     "data": {
      "text/plain": [
       "99"
      ]
     },
     "execution_count": 4,
     "metadata": {},
     "output_type": "execute_result"
    }
   ],
   "source": [
    "# Fetch news about Canada and Blockchain in 2020 in the English language\n",
    "blockchain_news_en = newsapi.get_everything(\n",
    "    q=\"blockchain AND canada AND 2020\",\n",
    "    language=\"en\"\n",
    ")\n",
    "\n",
    "# Show the total number of news\n",
    "blockchain_news_en[\"totalResults\"]"
   ]
  },
  {
   "cell_type": "markdown",
   "metadata": {},
   "source": [
    "## Getting News Articles in French\n",
    "\n",
    "Fetching news on French will require keywords on this language, so retrieve all the news articles using the News API using the keywords `blockchain`, `canada`, and `2020`."
   ]
  },
  {
   "cell_type": "code",
   "execution_count": 5,
   "metadata": {},
   "outputs": [
    {
     "data": {
      "text/plain": [
       "1"
      ]
     },
     "execution_count": 5,
     "metadata": {},
     "output_type": "execute_result"
    }
   ],
   "source": [
    "# Fetch news about Canada and Blockchain in 2020 in the French language\n",
    "blockchain_news_fr = newsapi.get_everything(\n",
    "    q=\"blockchain AND canada AND 2020\",\n",
    "    language=\"fr\"\n",
    ")\n",
    "\n",
    "# Show the total number of news\n",
    "blockchain_news_fr[\"totalResults\"]"
   ]
  },
  {
   "cell_type": "markdown",
   "metadata": {},
   "source": [
    "## Create a DataFrame with All the Results\n",
    "\n",
    "The first task on this section is to create a function called `create_df(news, language)` that will transform the `articles` list in a DataFrame. This function will receive two parameters: `news` is the articles' list and `language` is a string to specify the language of the news articles.\n",
    "\n",
    "The resulting DataFrame should have the following columns:\n",
    "\n",
    "* Title: The article's title\n",
    "* Description: The article's description\n",
    "* Text: The article's content\n",
    "* Date: The date when the article was published on the format `YYY-MM-DD` (eg. 2019-07-11)\n",
    "* Language: A string specifying the news language (`en` for English, `fr` for French)"
   ]
  },
  {
   "cell_type": "code",
   "execution_count": 6,
   "metadata": {},
   "outputs": [],
   "source": [
    "# Function to create a dataframe for english news and french news\n",
    "def create_df(news, language):\n",
    "    articles = []\n",
    "    for article in news:\n",
    "        try:\n",
    "            title = article[\"title\"]\n",
    "            description = article[\"description\"]\n",
    "            text = article[\"content\"]\n",
    "            date = article[\"publishedAt\"][:10]\n",
    "\n",
    "            articles.append({\n",
    "                \"title\": title,\n",
    "                \"description\": description,\n",
    "                \"text\": text,\n",
    "                \"date\": date,\n",
    "                \"language\": language\n",
    "            })\n",
    "        except AttributeError:\n",
    "            pass\n",
    "\n",
    "    return pd.DataFrame(articles)"
   ]
  },
  {
   "cell_type": "markdown",
   "metadata": {},
   "source": [
    "Use the create_df() function to create a DataFrame for the English news and another for the French news."
   ]
  },
  {
   "cell_type": "code",
   "execution_count": 7,
   "metadata": {},
   "outputs": [],
   "source": [
    "# Create a DataFrame with the news in English\n",
    "blockchain_en_df = create_df(blockchain_news_en[\"articles\"], \"en\")\n",
    "\n",
    "# Create a DataFrame with the news in French\n",
    "blockchain_fr_df = create_df(blockchain_news_fr[\"articles\"], \"fr\")"
   ]
  },
  {
   "cell_type": "markdown",
   "metadata": {},
   "source": [
    "Concatenate both DataFrames having the English news at the top and the French news at the bottom."
   ]
  },
  {
   "cell_type": "code",
   "execution_count": 8,
   "metadata": {},
   "outputs": [],
   "source": [
    "# Concatenate dataframes\n",
    "blockchain_df = pd.concat([blockchain_en_df, blockchain_fr_df])"
   ]
  },
  {
   "cell_type": "code",
   "execution_count": 9,
   "metadata": {},
   "outputs": [
    {
     "data": {
      "text/html": [
       "<div>\n",
       "<style scoped>\n",
       "    .dataframe tbody tr th:only-of-type {\n",
       "        vertical-align: middle;\n",
       "    }\n",
       "\n",
       "    .dataframe tbody tr th {\n",
       "        vertical-align: top;\n",
       "    }\n",
       "\n",
       "    .dataframe thead th {\n",
       "        text-align: right;\n",
       "    }\n",
       "</style>\n",
       "<table border=\"1\" class=\"dataframe\">\n",
       "  <thead>\n",
       "    <tr style=\"text-align: right;\">\n",
       "      <th></th>\n",
       "      <th>title</th>\n",
       "      <th>description</th>\n",
       "      <th>text</th>\n",
       "      <th>date</th>\n",
       "      <th>language</th>\n",
       "    </tr>\n",
       "  </thead>\n",
       "  <tbody>\n",
       "    <tr>\n",
       "      <th>0</th>\n",
       "      <td>Hedge Fund Manager Horizon Kinetics Expands Th...</td>\n",
       "      <td>Core Scientific announced yesterday that the h...</td>\n",
       "      <td>Bitcoin cryptocurrency representation is seen ...</td>\n",
       "      <td>2020-07-02</td>\n",
       "      <td>en</td>\n",
       "    </tr>\n",
       "    <tr>\n",
       "      <th>1</th>\n",
       "      <td>Global Blockchain Technology Industry - GlobeN...</td>\n",
       "      <td>Global Blockchain Technology Market to Reach U...</td>\n",
       "      <td>New York, July 10, 2020 (GLOBE NEWSWIRE) -- Re...</td>\n",
       "      <td>2020-07-10</td>\n",
       "      <td>en</td>\n",
       "    </tr>\n",
       "    <tr>\n",
       "      <th>2</th>\n",
       "      <td>IIROC Trading Halt - QBC.P</td>\n",
       "      <td>VANCOUVER, BC, July 27, 2020 /CNW/ - The follo...</td>\n",
       "      <td>VANCOUVER, BC, July 27, 2020 /CNW/ - The follo...</td>\n",
       "      <td>2020-07-27</td>\n",
       "      <td>en</td>\n",
       "    </tr>\n",
       "    <tr>\n",
       "      <th>3</th>\n",
       "      <td>Blockchain Bites: Digital Dollars, Ethereum’s ...</td>\n",
       "      <td>Thought leaders are decending on Washing to ta...</td>\n",
       "      <td>Australia’s stock exchange may delay its block...</td>\n",
       "      <td>2020-06-30</td>\n",
       "      <td>en</td>\n",
       "    </tr>\n",
       "    <tr>\n",
       "      <th>4</th>\n",
       "      <td>Top 10 Mobile App Trends</td>\n",
       "      <td>We have identified the top 10 mobile app trend...</td>\n",
       "      <td>TOP 10 MOBILE APP TRENDS We have identified th...</td>\n",
       "      <td>2020-07-21</td>\n",
       "      <td>en</td>\n",
       "    </tr>\n",
       "  </tbody>\n",
       "</table>\n",
       "</div>"
      ],
      "text/plain": [
       "                                               title  \\\n",
       "0  Hedge Fund Manager Horizon Kinetics Expands Th...   \n",
       "1  Global Blockchain Technology Industry - GlobeN...   \n",
       "2                         IIROC Trading Halt - QBC.P   \n",
       "3  Blockchain Bites: Digital Dollars, Ethereum’s ...   \n",
       "4                           Top 10 Mobile App Trends   \n",
       "\n",
       "                                         description  \\\n",
       "0  Core Scientific announced yesterday that the h...   \n",
       "1  Global Blockchain Technology Market to Reach U...   \n",
       "2  VANCOUVER, BC, July 27, 2020 /CNW/ - The follo...   \n",
       "3  Thought leaders are decending on Washing to ta...   \n",
       "4  We have identified the top 10 mobile app trend...   \n",
       "\n",
       "                                                text        date language  \n",
       "0  Bitcoin cryptocurrency representation is seen ...  2020-07-02       en  \n",
       "1  New York, July 10, 2020 (GLOBE NEWSWIRE) -- Re...  2020-07-10       en  \n",
       "2  VANCOUVER, BC, July 27, 2020 /CNW/ - The follo...  2020-07-27       en  \n",
       "3  Australia’s stock exchange may delay its block...  2020-06-30       en  \n",
       "4  TOP 10 MOBILE APP TRENDS We have identified th...  2020-07-21       en  "
      ]
     },
     "execution_count": 9,
     "metadata": {},
     "output_type": "execute_result"
    }
   ],
   "source": [
    "# Show the head articles (they are in English)\n",
    "blockchain_df.head()"
   ]
  },
  {
   "cell_type": "code",
   "execution_count": 10,
   "metadata": {},
   "outputs": [
    {
     "data": {
      "text/html": [
       "<div>\n",
       "<style scoped>\n",
       "    .dataframe tbody tr th:only-of-type {\n",
       "        vertical-align: middle;\n",
       "    }\n",
       "\n",
       "    .dataframe tbody tr th {\n",
       "        vertical-align: top;\n",
       "    }\n",
       "\n",
       "    .dataframe thead th {\n",
       "        text-align: right;\n",
       "    }\n",
       "</style>\n",
       "<table border=\"1\" class=\"dataframe\">\n",
       "  <thead>\n",
       "    <tr style=\"text-align: right;\">\n",
       "      <th></th>\n",
       "      <th>title</th>\n",
       "      <th>description</th>\n",
       "      <th>text</th>\n",
       "      <th>date</th>\n",
       "      <th>language</th>\n",
       "    </tr>\n",
       "  </thead>\n",
       "  <tbody>\n",
       "    <tr>\n",
       "      <th>16</th>\n",
       "      <td>Blockchain Technology in Healthcare Market Res...</td>\n",
       "      <td>Read the full report: https://www.reportlinker...</td>\n",
       "      <td>Blockchain Technology in Healthcare Market Res...</td>\n",
       "      <td>2020-07-06</td>\n",
       "      <td>en</td>\n",
       "    </tr>\n",
       "    <tr>\n",
       "      <th>17</th>\n",
       "      <td>The Global Blockchain-as-a-Service Market is e...</td>\n",
       "      <td>Read the full report: https://www.reportlinker...</td>\n",
       "      <td>Blockchain-as-a-Service Market Research Report...</td>\n",
       "      <td>2020-07-06</td>\n",
       "      <td>en</td>\n",
       "    </tr>\n",
       "    <tr>\n",
       "      <th>18</th>\n",
       "      <td>The Valens Company Announces Participation in ...</td>\n",
       "      <td>The Valens Company Inc. (TSX: VLNS) (OTCQX: VL...</td>\n",
       "      <td>KELOWNA, BC, July 13, 2020 /PRNewswire/ - The ...</td>\n",
       "      <td>2020-07-13</td>\n",
       "      <td>en</td>\n",
       "    </tr>\n",
       "    <tr>\n",
       "      <th>19</th>\n",
       "      <td>Senate Moves Closer To Digital Dollar</td>\n",
       "      <td>On June 30th, the Senate Banking Committee hel...</td>\n",
       "      <td>On June 30th, 2020, the Senate Banking Committ...</td>\n",
       "      <td>2020-07-01</td>\n",
       "      <td>en</td>\n",
       "    </tr>\n",
       "    <tr>\n",
       "      <th>0</th>\n",
       "      <td>La plus grande vente aux enchères d'art au mon...</td>\n",
       "      <td>Brock Pierce va s'exprimer en direct sur Artan...</td>\n",
       "      <td>Brock Pierce va s'exprimer en direct sur Artan...</td>\n",
       "      <td>2020-06-28</td>\n",
       "      <td>fr</td>\n",
       "    </tr>\n",
       "  </tbody>\n",
       "</table>\n",
       "</div>"
      ],
      "text/plain": [
       "                                                title  \\\n",
       "16  Blockchain Technology in Healthcare Market Res...   \n",
       "17  The Global Blockchain-as-a-Service Market is e...   \n",
       "18  The Valens Company Announces Participation in ...   \n",
       "19              Senate Moves Closer To Digital Dollar   \n",
       "0   La plus grande vente aux enchères d'art au mon...   \n",
       "\n",
       "                                          description  \\\n",
       "16  Read the full report: https://www.reportlinker...   \n",
       "17  Read the full report: https://www.reportlinker...   \n",
       "18  The Valens Company Inc. (TSX: VLNS) (OTCQX: VL...   \n",
       "19  On June 30th, the Senate Banking Committee hel...   \n",
       "0   Brock Pierce va s'exprimer en direct sur Artan...   \n",
       "\n",
       "                                                 text        date language  \n",
       "16  Blockchain Technology in Healthcare Market Res...  2020-07-06       en  \n",
       "17  Blockchain-as-a-Service Market Research Report...  2020-07-06       en  \n",
       "18  KELOWNA, BC, July 13, 2020 /PRNewswire/ - The ...  2020-07-13       en  \n",
       "19  On June 30th, 2020, the Senate Banking Committ...  2020-07-01       en  \n",
       "0   Brock Pierce va s'exprimer en direct sur Artan...  2020-06-28       fr  "
      ]
     },
     "execution_count": 10,
     "metadata": {},
     "output_type": "execute_result"
    }
   ],
   "source": [
    "# Show the tail articles (they are in French)\n",
    "blockchain_df.tail()"
   ]
  },
  {
   "cell_type": "markdown",
   "metadata": {},
   "source": [
    "Save tha final DataFrame as a CSV file for further analysis in the forthcoming activities."
   ]
  },
  {
   "cell_type": "code",
   "execution_count": 11,
   "metadata": {},
   "outputs": [],
   "source": [
    "# Save to CSV\n",
    "file_path = Path(\"../Resources/blockchain_news_en_fr.csv\")\n",
    "blockchain_df.to_csv(file_path, index=False, encoding='utf-8-sig')"
   ]
  }
 ],
 "metadata": {
  "file_extension": ".py",
  "kernelspec": {
   "display_name": "Python 3",
   "language": "python",
   "name": "python3"
  },
  "language_info": {
   "codemirror_mode": {
    "name": "ipython",
    "version": 3
   },
   "file_extension": ".py",
   "mimetype": "text/x-python",
   "name": "python",
   "nbconvert_exporter": "python",
   "pygments_lexer": "ipython3",
   "version": "3.7.7"
  },
  "mimetype": "text/x-python",
  "name": "python",
  "npconvert_exporter": "python",
  "pygments_lexer": "ipython3",
  "version": 3
 },
 "nbformat": 4,
 "nbformat_minor": 4
}
