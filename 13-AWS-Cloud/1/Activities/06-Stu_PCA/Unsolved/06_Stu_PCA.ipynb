{
  "cells": [
    {
      "cell_type": "markdown",
      "source": [
        "# Students Do: PCA in Action\n",
        "\nIn this activity, you will use PCA to reduce the dimensions of the consumers shopping dataset from `4` to `2` features. After applying PCA, you will use the principal components data, to fit a K-Means means model with `k=6` and make some conclusions."
      ],
      "metadata": {}
    },
    {
      "cell_type": "code",
      "source": [
        "# Initial imports\n",
        "import pandas as pd\n",
        "from path import Path\n",
        "from sklearn.preprocessing import StandardScaler\n",
        "from sklearn.decomposition import PCA\n",
        "from sklearn.cluster import KMeans\n",
        "import plotly.express as px\n"
      ],
      "outputs": [],
      "execution_count": null,
      "metadata": {}
    },
    {
      "cell_type": "markdown",
      "source": [
        "## Instructions\n",
        "\n1. Import the preprocessed data from the customers shopping dataset into a DataFrame called `df_shopping`."
      ],
      "metadata": {}
    },
    {
      "cell_type": "code",
      "source": [
        "# Import data\n",
        "\n"
      ],
      "outputs": [],
      "execution_count": null,
      "metadata": {}
    },
    {
      "cell_type": "markdown",
      "source": [
        "2. Standardize the data of all the DataFrame features."
      ],
      "metadata": {}
    },
    {
      "cell_type": "code",
      "source": [
        "# Standardize data\n",
        "\n"
      ],
      "outputs": [],
      "execution_count": null,
      "metadata": {}
    },
    {
      "cell_type": "markdown",
      "source": [
        "3. Apply PCA to reduce dimensions from 4 to 2 and create a DataFrame with the principal components data."
      ],
      "metadata": {}
    },
    {
      "cell_type": "code",
      "source": [
        "# Initialize PCA model\n",
        "\n",
        "# Get two principal components for the data.\n",
        "\n"
      ],
      "outputs": [],
      "execution_count": null,
      "metadata": {}
    },
    {
      "cell_type": "code",
      "source": [
        "# Transform PCA data to a DataFrame\n",
        "\n"
      ],
      "outputs": [],
      "execution_count": null,
      "metadata": {}
    },
    {
      "cell_type": "markdown",
      "source": [
        "4. Fetch the explained variance, analyze its value and answer the following question, are two principal components the best number of new dimensions?"
      ],
      "metadata": {}
    },
    {
      "cell_type": "code",
      "source": [
        "# Fetch the explained variance\n",
        "\n"
      ],
      "outputs": [],
      "execution_count": null,
      "metadata": {}
    },
    {
      "cell_type": "markdown",
      "source": [
        "**Write Your Answer Here**\n",
        "\n"
      ],
      "metadata": {}
    },
    {
      "cell_type": "markdown",
      "source": [
        "5. If you conclude that two principal components is the appropriate number of new dimensions, proceed to step 6, on the contrary, explore what happens if you modify the number of principal components. Once you finish, write your conclusions."
      ],
      "metadata": {}
    },
    {
      "cell_type": "code",
      "source": [
        "# Initialize PCA model\n",
        "\n",
        "# Get two principal components for the iris data.\n",
        "\n"
      ],
      "outputs": [],
      "execution_count": null,
      "metadata": {}
    },
    {
      "cell_type": "code",
      "source": [
        "# Transform PCA data to a DataFrame\n",
        "\n"
      ],
      "outputs": [],
      "execution_count": null,
      "metadata": {}
    },
    {
      "cell_type": "code",
      "source": [
        "# Fetch the explained variance\n"
      ],
      "outputs": [],
      "execution_count": null,
      "metadata": {}
    },
    {
      "cell_type": "markdown",
      "source": [
        "**Write Your Conclusions Here**\n",
        "\n"
      ],
      "metadata": {}
    },
    {
      "cell_type": "markdown",
      "source": [
        "6. Fit the K-Means algorithm with `k=6` and the principal components data."
      ],
      "metadata": {}
    },
    {
      "cell_type": "code",
      "source": [
        "# Initialize the K-Means model\n",
        "\n",
        "# Fit the model\n",
        "\n",
        "# Predict clusters\n",
        "\n",
        "# Add the predicted class columns\n",
        "\n"
      ],
      "outputs": [],
      "execution_count": null,
      "metadata": {}
    },
    {
      "cell_type": "markdown",
      "source": [
        "7. Plot the resulting clusters, use the appropriate scatter plot depending on the number of dimensions you have."
      ],
      "metadata": {}
    },
    {
      "cell_type": "code",
      "source": [
        "\n"
      ],
      "outputs": [],
      "execution_count": null,
      "metadata": {}
    }
  ],
  "metadata": {
    "pygments_lexer": "ipython3",
    "name": "python",
    "mimetype": "text/x-python",
    "npconvert_exporter": "python",
    "kernel_info": {
      "name": "python3"
    },
    "language_info": {
      "name": "python",
      "version": "3.7.3",
      "mimetype": "text/x-python",
      "codemirror_mode": {
        "name": "ipython",
        "version": 3
      },
      "pygments_lexer": "ipython3",
      "nbconvert_exporter": "python",
      "file_extension": ".py"
    },
    "version": 3,
    "kernelspec": {
      "name": "python3",
      "language": "python",
      "display_name": "Python 3"
    },
    "file_extension": ".py",
    "nteract": {
      "version": "0.12.3"
    }
  },
  "nbformat": 4,
  "nbformat_minor": 2
}